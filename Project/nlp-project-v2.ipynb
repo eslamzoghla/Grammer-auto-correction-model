{
 "cells": [
  {
   "cell_type": "code",
   "execution_count": 1,
   "metadata": {
    "execution": {
     "iopub.execute_input": "2023-05-09T19:12:45.264433Z",
     "iopub.status.busy": "2023-05-09T19:12:45.263177Z",
     "iopub.status.idle": "2023-05-09T19:12:47.531666Z",
     "shell.execute_reply": "2023-05-09T19:12:47.530399Z",
     "shell.execute_reply.started": "2023-05-09T19:12:45.264365Z"
    }
   },
   "outputs": [],
   "source": [
    "import pandas as pd\n",
    "import numpy as np\n",
    "import os\n",
    "from nltk.tokenize import word_tokenize\n",
    "from string import punctuation"
   ]
  },
  {
   "cell_type": "markdown",
   "metadata": {},
   "source": [
    "**In this project about 18 million pair of sentences will be used from this tsv files**\n",
    "\n",
    "/kaggle/input/c4200m/C4_200M.tsv-00000-of-00010\n"
   ]
  },
  {
   "cell_type": "code",
   "execution_count": 2,
   "metadata": {
    "execution": {
     "iopub.execute_input": "2023-05-09T19:12:56.556730Z",
     "iopub.status.busy": "2023-05-09T19:12:56.555146Z",
     "iopub.status.idle": "2023-05-09T19:16:06.471095Z",
     "shell.execute_reply": "2023-05-09T19:16:06.469746Z",
     "shell.execute_reply.started": "2023-05-09T19:12:56.556650Z"
    }
   },
   "outputs": [],
   "source": [
    "tsv_data1 = pd.read_csv('/kaggle/input/c4200m/C4_200M.tsv-00000-of-00010', sep='\\t')"
   ]
  },
  {
   "cell_type": "code",
   "execution_count": 3,
   "metadata": {
    "execution": {
     "iopub.execute_input": "2023-05-09T19:16:19.451387Z",
     "iopub.status.busy": "2023-05-09T19:16:19.450849Z",
     "iopub.status.idle": "2023-05-09T19:16:19.463997Z",
     "shell.execute_reply": "2023-05-09T19:16:19.462146Z",
     "shell.execute_reply.started": "2023-05-09T19:16:19.451346Z"
    }
   },
   "outputs": [
    {
     "data": {
      "text/plain": [
       "Index(['Bitcoin is for $7,094 this morning, which CoinDesk says.', 'Bitcoin goes for $7,094 this morning, according to CoinDesk.'], dtype='object')"
      ]
     },
     "execution_count": 3,
     "metadata": {},
     "output_type": "execute_result"
    }
   ],
   "source": [
    "tsv_data1.columns"
   ]
  },
  {
   "cell_type": "code",
   "execution_count": 4,
   "metadata": {
    "execution": {
     "iopub.execute_input": "2023-05-09T19:16:37.335628Z",
     "iopub.status.busy": "2023-05-09T19:16:37.335043Z",
     "iopub.status.idle": "2023-05-09T19:16:37.350636Z",
     "shell.execute_reply": "2023-05-09T19:16:37.349517Z",
     "shell.execute_reply.started": "2023-05-09T19:16:37.335580Z"
    }
   },
   "outputs": [],
   "source": [
    "# Load the input values incorrect grammer sentences\n",
    "x = tsv_data1['Bitcoin is for $7,094 this morning, which CoinDesk says.'].to_numpy()\n",
    "\n",
    "# Load the labels correct grammer sentences\n",
    "y = tsv_data1['Bitcoin goes for $7,094 this morning, according to CoinDesk.'].to_numpy()"
   ]
  },
  {
   "cell_type": "markdown",
   "metadata": {},
   "source": [
    "**Showing sample of data using pandas module**"
   ]
  },
  {
   "cell_type": "code",
   "execution_count": 5,
   "metadata": {
    "execution": {
     "iopub.execute_input": "2023-05-09T19:16:48.157510Z",
     "iopub.status.busy": "2023-05-09T19:16:48.156997Z",
     "iopub.status.idle": "2023-05-09T19:16:48.256832Z",
     "shell.execute_reply": "2023-05-09T19:16:48.255358Z",
     "shell.execute_reply.started": "2023-05-09T19:16:48.157469Z"
    }
   },
   "outputs": [
    {
     "data": {
      "text/html": [
       "<style type=\"text/css\">\n",
       "</style>\n",
       "<table id=\"T_27d39_\">\n",
       "  <thead>\n",
       "    <tr>\n",
       "      <th class=\"blank level0\" >&nbsp;</th>\n",
       "      <th class=\"col_heading level0 col0\" >Input</th>\n",
       "      <th class=\"col_heading level0 col1\" >Labels</th>\n",
       "    </tr>\n",
       "  </thead>\n",
       "  <tbody>\n",
       "    <tr>\n",
       "      <th id=\"T_27d39_level0_row0\" class=\"row_heading level0 row0\" >0</th>\n",
       "      <td id=\"T_27d39_row0_col0\" class=\"data row0 col0\" >The effect of widespread dud targets two face up attack position monsters on the field.</td>\n",
       "      <td id=\"T_27d39_row0_col1\" class=\"data row0 col1\" >1. The effect of \"widespread dud\" targets two face up attack position monsters on the field.</td>\n",
       "    </tr>\n",
       "    <tr>\n",
       "      <th id=\"T_27d39_level0_row1\" class=\"row_heading level0 row1\" >1</th>\n",
       "      <td id=\"T_27d39_row1_col0\" class=\"data row1 col0\" >tax on sales of stores for non residents are set at 21% for 2014 and 20% in 2015 payable on sales tentatively earned from the difference of the property value some time of purchase (price differences according to working time) and theyear to which sale couples (sales costs), based on the approved annual on the base approved by law).</td>\n",
       "      <td id=\"T_27d39_row1_col1\" class=\"data row1 col1\" >Capital Gains tax on the sale of properties for non-residents is set at 21% for 2014 and 20% in 2015 payable on profits earned on the difference of the property value between the year of purchase (purchase price plus costs) and the year of sale (sales price minus costs), based on the approved annual percentage increase on the base value approved by law.</td>\n",
       "    </tr>\n",
       "    <tr>\n",
       "      <th id=\"T_27d39_level0_row2\" class=\"row_heading level0 row2\" >2</th>\n",
       "      <td id=\"T_27d39_row2_col0\" class=\"data row2 col0\" >Much many brands and sellers still in the market.</td>\n",
       "      <td id=\"T_27d39_row2_col1\" class=\"data row2 col1\" >Many brands and sellers still in the market.</td>\n",
       "    </tr>\n",
       "    <tr>\n",
       "      <th id=\"T_27d39_level0_row3\" class=\"row_heading level0 row3\" >3</th>\n",
       "      <td id=\"T_27d39_row3_col0\" class=\"data row3 col0\" >this is is the latest Maintenance release of Samba 3.6</td>\n",
       "      <td id=\"T_27d39_row3_col1\" class=\"data row3 col1\" >This is is the latest maintenance release of Samba 3.6.</td>\n",
       "    </tr>\n",
       "    <tr>\n",
       "      <th id=\"T_27d39_level0_row4\" class=\"row_heading level0 row4\" >4</th>\n",
       "      <td id=\"T_27d39_row4_col0\" class=\"data row4 col0\" >Fairy Or Not, I'm the Godmother: no just look, but my outfit for taking the part as godmother.</td>\n",
       "      <td id=\"T_27d39_row4_col1\" class=\"data row4 col1\" >Fairy Or Not, I'm the Godmother: Not just a look, but my outfit for taking on the role as godmother.</td>\n",
       "    </tr>\n",
       "    <tr>\n",
       "      <th id=\"T_27d39_level0_row5\" class=\"row_heading level0 row5\" >5</th>\n",
       "      <td id=\"T_27d39_row5_col0\" class=\"data row5 col0\" >Watcch as this Dodge Challenger Hellcat gets smoked by a Tesla Model S - with the drag strip.</td>\n",
       "      <td id=\"T_27d39_row5_col1\" class=\"data row5 col1\" >Watch as this Dodge Challenger Hellcat gets smoked by a Tesla Model S at the drag strip.</td>\n",
       "    </tr>\n",
       "    <tr>\n",
       "      <th id=\"T_27d39_level0_row6\" class=\"row_heading level0 row6\" >6</th>\n",
       "      <td id=\"T_27d39_row6_col0\" class=\"data row6 col0\" >Momover, these devices have been proven to help consumers during another company his information.</td>\n",
       "      <td id=\"T_27d39_row6_col1\" class=\"data row6 col1\" >Moreover, these devices are proven to help consumers while another company that information.</td>\n",
       "    </tr>\n",
       "    <tr>\n",
       "      <th id=\"T_27d39_level0_row7\" class=\"row_heading level0 row7\" >7</th>\n",
       "      <td id=\"T_27d39_row7_col0\" class=\"data row7 col0\" >Ever cloud has a silver lining and it’s just possible that we were beaten before the off as the first three home came from stalls eight to 12, while we were drawn in berth two which meant that our fellow was forced to race in the middle the course while the leader kicked on on the stands’ high rail.</td>\n",
       "      <td id=\"T_27d39_row7_col1\" class=\"data row7 col1\" >Every cloud has a silver lining and it’s just possible that we were beaten before the off as the first three home came from stalls eight to 12, while we were drawn in berth two which meant that our fellow was forced to race in the middle of the course while the leader kicked on on the stands’ rail.</td>\n",
       "    </tr>\n",
       "    <tr>\n",
       "      <th id=\"T_27d39_level0_row8\" class=\"row_heading level0 row8\" >8</th>\n",
       "      <td id=\"T_27d39_row8_col0\" class=\"data row8 col0\" >Worthless involved's supporting for the movement.</td>\n",
       "      <td id=\"T_27d39_row8_col1\" class=\"data row8 col1\" >Get involved and help the movement!</td>\n",
       "    </tr>\n",
       "    <tr>\n",
       "      <th id=\"T_27d39_level0_row9\" class=\"row_heading level0 row9\" >9</th>\n",
       "      <td id=\"T_27d39_row9_col0\" class=\"data row9 col0\" >Mark Mohler said in a post on Instagram that he and fellow diver Kimberley Jeffries have confirmed the identity of Wonka bee specilis Deep Blue on Wednesday.</td>\n",
       "      <td id=\"T_27d39_row9_col1\" class=\"data row9 col1\" >On Wednesday, diver Mark Mohler said in a post on Instagram he and fellow diver Kimberley Jeffries confirmed the identity of the shark as Deep Blue.</td>\n",
       "    </tr>\n",
       "  </tbody>\n",
       "</table>\n"
      ],
      "text/plain": [
       "<pandas.io.formats.style.Styler at 0x7cde62a85710>"
      ]
     },
     "execution_count": 5,
     "metadata": {},
     "output_type": "execute_result"
    }
   ],
   "source": [
    "inp_lbl = {'Input': x[0:10], 'Labels': y[0:10]}\n",
    "df = pd.DataFrame(inp_lbl)\n",
    "df.style"
   ]
  },
  {
   "cell_type": "markdown",
   "metadata": {},
   "source": [
    "\n",
    "**Convert letters of sentences to lowercase letters and Find missing values and delete them from array**\n",
    "\n",
    "Note this missing valuse equal to nan from float dtype so lower case convert will not work with it"
   ]
  },
  {
   "cell_type": "code",
   "execution_count": 6,
   "metadata": {
    "execution": {
     "iopub.execute_input": "2023-05-09T19:16:55.687175Z",
     "iopub.status.busy": "2023-05-09T19:16:55.686630Z",
     "iopub.status.idle": "2023-05-09T19:16:55.695493Z",
     "shell.execute_reply": "2023-05-09T19:16:55.693544Z",
     "shell.execute_reply.started": "2023-05-09T19:16:55.687133Z"
    }
   },
   "outputs": [
    {
     "name": "stdout",
     "output_type": "stream",
     "text": [
      "Number of elements in the input is: (18386521,)\n",
      "----------------------------------------------\n",
      "Number of elements in the labels is: (18386521,)\n"
     ]
    }
   ],
   "source": [
    "print(f'Number of elements in the input is: {x.shape}')\n",
    "print('----------------------------------------------')\n",
    "print(f'Number of elements in the labels is: {y.shape}')"
   ]
  },
  {
   "cell_type": "code",
   "execution_count": 7,
   "metadata": {
    "execution": {
     "iopub.execute_input": "2023-05-09T19:17:05.770112Z",
     "iopub.status.busy": "2023-05-09T19:17:05.769619Z",
     "iopub.status.idle": "2023-05-09T19:17:28.062071Z",
     "shell.execute_reply": "2023-05-09T19:17:28.060577Z",
     "shell.execute_reply.started": "2023-05-09T19:17:05.770074Z"
    }
   },
   "outputs": [],
   "source": [
    "del_list = []\n",
    "for i in range(0,18386521):\n",
    "    try:\n",
    "        x[i] = x[i].lower()\n",
    "        y[i] = y[i].lower()\n",
    "    except:\n",
    "        del_list.append(i)"
   ]
  },
  {
   "cell_type": "code",
   "execution_count": 8,
   "metadata": {
    "execution": {
     "iopub.execute_input": "2023-05-09T19:17:33.052769Z",
     "iopub.status.busy": "2023-05-09T19:17:33.052250Z",
     "iopub.status.idle": "2023-05-09T19:17:34.454582Z",
     "shell.execute_reply": "2023-05-09T19:17:34.453126Z",
     "shell.execute_reply.started": "2023-05-09T19:17:33.052730Z"
    }
   },
   "outputs": [],
   "source": [
    "x = np.delete(x, del_list)\n",
    "y = np.delete(y, del_list)"
   ]
  },
  {
   "cell_type": "code",
   "execution_count": 9,
   "metadata": {
    "execution": {
     "iopub.execute_input": "2023-05-09T19:17:36.655096Z",
     "iopub.status.busy": "2023-05-09T19:17:36.654520Z",
     "iopub.status.idle": "2023-05-09T19:17:36.663218Z",
     "shell.execute_reply": "2023-05-09T19:17:36.661212Z",
     "shell.execute_reply.started": "2023-05-09T19:17:36.655058Z"
    }
   },
   "outputs": [
    {
     "name": "stdout",
     "output_type": "stream",
     "text": [
      "Number of elements in the input is: (18386441,)\n",
      "----------------------------------------------\n",
      "Number of elements in the labels is: (18386441,)\n"
     ]
    }
   ],
   "source": [
    "print(f'Number of elements in the input is: {x.shape}')\n",
    "print('----------------------------------------------')\n",
    "print(f'Number of elements in the labels is: {y.shape}')"
   ]
  },
  {
   "cell_type": "code",
   "execution_count": 10,
   "metadata": {
    "execution": {
     "iopub.execute_input": "2023-05-09T19:17:42.251942Z",
     "iopub.status.busy": "2023-05-09T19:17:42.251464Z",
     "iopub.status.idle": "2023-05-09T19:18:24.754179Z",
     "shell.execute_reply": "2023-05-09T19:18:24.752711Z",
     "shell.execute_reply.started": "2023-05-09T19:17:42.251905Z"
    }
   },
   "outputs": [],
   "source": [
    "# Check for success of the process and remove unneeded elements\n",
    "unneed=[]\n",
    "for i in range (0, 18386441):\n",
    "    if (not (x[i].islower())) or (not (y[i].islower())):\n",
    "      unneed.append(i)"
   ]
  },
  {
   "cell_type": "code",
   "execution_count": 11,
   "metadata": {
    "execution": {
     "iopub.execute_input": "2023-05-09T19:18:28.845484Z",
     "iopub.status.busy": "2023-05-09T19:18:28.845001Z",
     "iopub.status.idle": "2023-05-09T19:18:30.505661Z",
     "shell.execute_reply": "2023-05-09T19:18:30.503690Z",
     "shell.execute_reply.started": "2023-05-09T19:18:28.845442Z"
    }
   },
   "outputs": [],
   "source": [
    "# Delete unneeded elements\n",
    "x = np.delete(x, unneed)\n",
    "y = np.delete(y, unneed)"
   ]
  },
  {
   "cell_type": "code",
   "execution_count": 12,
   "metadata": {
    "execution": {
     "iopub.execute_input": "2023-05-09T19:18:32.886144Z",
     "iopub.status.busy": "2023-05-09T19:18:32.885622Z",
     "iopub.status.idle": "2023-05-09T19:18:32.894026Z",
     "shell.execute_reply": "2023-05-09T19:18:32.892666Z",
     "shell.execute_reply.started": "2023-05-09T19:18:32.886098Z"
    }
   },
   "outputs": [
    {
     "name": "stdout",
     "output_type": "stream",
     "text": [
      "Number of elements in the input is: (18385502,)\n",
      "----------------------------------------------\n",
      "Number of elements in the labels is: (18385502,)\n"
     ]
    }
   ],
   "source": [
    "print(f'Number of elements in the input is: {x.shape}')\n",
    "print('----------------------------------------------')\n",
    "print(f'Number of elements in the labels is: {y.shape}')"
   ]
  },
  {
   "cell_type": "code",
   "execution_count": null,
   "metadata": {
    "execution": {
     "iopub.execute_input": "2023-04-23T20:50:25.864781Z",
     "iopub.status.busy": "2023-04-23T20:50:25.864315Z",
     "iopub.status.idle": "2023-04-23T20:52:43.583718Z",
     "shell.execute_reply": "2023-04-23T20:52:43.581836Z",
     "shell.execute_reply.started": "2023-04-23T20:50:25.864743Z"
    }
   },
   "outputs": [],
   "source": [
    "saved_data = {'Input': x[0:18385502], 'Labels': y[0:18385502]}\n",
    "df = pd.DataFrame(saved_data)\n",
    "df.to_csv('Grammer_sentences.csv', index=False)"
   ]
  },
  {
   "cell_type": "code",
   "execution_count": null,
   "metadata": {
    "execution": {
     "iopub.execute_input": "2023-04-23T20:57:22.637618Z",
     "iopub.status.busy": "2023-04-23T20:57:22.637116Z",
     "iopub.status.idle": "2023-04-23T20:58:53.679228Z",
     "shell.execute_reply": "2023-04-23T20:58:53.677800Z",
     "shell.execute_reply.started": "2023-04-23T20:57:22.637538Z"
    }
   },
   "outputs": [],
   "source": [
    "csv_data = pd.read_csv('/kaggle/working/Grammer_sentences.csv')"
   ]
  },
  {
   "cell_type": "code",
   "execution_count": null,
   "metadata": {
    "execution": {
     "iopub.execute_input": "2023-04-23T20:59:13.471652Z",
     "iopub.status.busy": "2023-04-23T20:59:13.471181Z",
     "iopub.status.idle": "2023-04-23T20:59:13.477709Z",
     "shell.execute_reply": "2023-04-23T20:59:13.476332Z",
     "shell.execute_reply.started": "2023-04-23T20:59:13.471609Z"
    }
   },
   "outputs": [],
   "source": [
    "x = csv_data['Input'].to_numpy()\n",
    "y = csv_data['Labels'].to_numpy()"
   ]
  },
  {
   "cell_type": "markdown",
   "metadata": {},
   "source": [
    "**Remove the punctuation from the corpus**"
   ]
  },
  {
   "cell_type": "code",
   "execution_count": null,
   "metadata": {
    "execution": {
     "iopub.execute_input": "2023-04-23T21:10:09.344756Z",
     "iopub.status.busy": "2023-04-23T21:10:09.344135Z",
     "iopub.status.idle": "2023-04-23T21:10:09.353530Z",
     "shell.execute_reply": "2023-04-23T21:10:09.351659Z",
     "shell.execute_reply.started": "2023-04-23T21:10:09.344697Z"
    }
   },
   "outputs": [],
   "source": [
    "def remove_punct(sentence):\n",
    "    sentence = word_tokenize(sentence)\n",
    "    filtered_sentence = []\n",
    "    for w in sentence:\n",
    "        if w not in punctuation:\n",
    "            filtered_sentence.append(w)\n",
    "            \n",
    "    return ' '.join(filtered_sentence)"
   ]
  },
  {
   "cell_type": "code",
   "execution_count": 13,
   "metadata": {
    "execution": {
     "iopub.execute_input": "2023-05-09T19:19:51.087406Z",
     "iopub.status.busy": "2023-05-09T19:19:51.086913Z",
     "iopub.status.idle": "2023-05-09T19:19:51.095524Z",
     "shell.execute_reply": "2023-05-09T19:19:51.093645Z",
     "shell.execute_reply.started": "2023-05-09T19:19:51.087371Z"
    }
   },
   "outputs": [
    {
     "name": "stdout",
     "output_type": "stream",
     "text": [
      "Number of sentence: 18385501"
     ]
    }
   ],
   "source": [
    "for i in range(0, 18385502):\n",
    "    x[i] = remove_punct(x[i])\n",
    "    y[i] = remove_punct(y[i])\n",
    "    print(f'\\rNumber of sentence: {i:08}', end='')\n"
   ]
  },
  {
   "cell_type": "code",
   "execution_count": null,
   "metadata": {
    "execution": {
     "iopub.execute_input": "2023-04-24T00:17:40.957933Z",
     "iopub.status.busy": "2023-04-24T00:17:40.957418Z",
     "iopub.status.idle": "2023-04-24T00:20:05.904934Z",
     "shell.execute_reply": "2023-04-24T00:20:05.902923Z",
     "shell.execute_reply.started": "2023-04-24T00:17:40.957891Z"
    }
   },
   "outputs": [],
   "source": [
    "saved_data = {'Input': x[0:18385502], 'Labels': y[0:18385502]}\n",
    "df = pd.DataFrame(saved_data)\n",
    "df.to_csv('Grammer_sentences_v2.csv', index=False)"
   ]
  }
 ],
 "metadata": {
  "kernelspec": {
   "display_name": "Python 3 (ipykernel)",
   "language": "python",
   "name": "python3"
  },
  "language_info": {
   "codemirror_mode": {
    "name": "ipython",
    "version": 3
   },
   "file_extension": ".py",
   "mimetype": "text/x-python",
   "name": "python",
   "nbconvert_exporter": "python",
   "pygments_lexer": "ipython3",
   "version": "3.10.5"
  }
 },
 "nbformat": 4,
 "nbformat_minor": 4
}
