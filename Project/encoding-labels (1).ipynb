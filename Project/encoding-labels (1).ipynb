{
 "cells": [
  {
   "cell_type": "code",
   "execution_count": 2,
   "metadata": {
    "_cell_guid": "b1076dfc-b9ad-4769-8c92-a6c4dae69d19",
    "_uuid": "8f2839f25d086af736a60e9eeb907d3b93b6e0e5",
    "execution": {
     "iopub.execute_input": "2023-04-25T03:58:03.741892Z",
     "iopub.status.busy": "2023-04-25T03:58:03.740603Z",
     "iopub.status.idle": "2023-04-25T03:58:14.770184Z",
     "shell.execute_reply": "2023-04-25T03:58:14.768627Z",
     "shell.execute_reply.started": "2023-04-25T03:58:03.741838Z"
    }
   },
   "outputs": [],
   "source": [
    "import pandas as pd\n",
    "import numpy as np\n",
    "import os\n",
    "from tensorflow.keras.preprocessing.text import Tokenizer\n",
    "import pickle\n",
    "from tensorflow.keras.preprocessing.sequence import pad_sequences"
   ]
  },
  {
   "cell_type": "code",
   "execution_count": 3,
   "metadata": {
    "execution": {
     "iopub.execute_input": "2023-04-25T03:58:57.917103Z",
     "iopub.status.busy": "2023-04-25T03:58:57.916204Z",
     "iopub.status.idle": "2023-04-25T04:01:37.764453Z",
     "shell.execute_reply": "2023-04-25T04:01:37.763027Z",
     "shell.execute_reply.started": "2023-04-25T03:58:57.917053Z"
    }
   },
   "outputs": [],
   "source": [
    "# For reading previous data\n",
    "csv_data = pd.read_csv('/kaggle/input/nlp-project-v2/Grammer_sentences_v2.csv')\n",
    "\n",
    "y = csv_data['Labels'].to_numpy()\n",
    "\n",
    "y_l = list(y)"
   ]
  },
  {
   "cell_type": "code",
   "execution_count": 4,
   "metadata": {
    "execution": {
     "iopub.execute_input": "2023-04-25T04:01:51.494007Z",
     "iopub.status.busy": "2023-04-25T04:01:51.493542Z",
     "iopub.status.idle": "2023-04-25T04:02:09.841643Z",
     "shell.execute_reply": "2023-04-25T04:02:09.839891Z",
     "shell.execute_reply.started": "2023-04-25T04:01:51.493969Z"
    }
   },
   "outputs": [],
   "source": [
    "# loading tokenizer\n",
    "with open('/kaggle/input/encoding-1/grammar_tokenizer.pickle', 'rb') as handle:\n",
    "    tokenizer = pickle.load(handle)"
   ]
  },
  {
   "cell_type": "code",
   "execution_count": 5,
   "metadata": {
    "execution": {
     "iopub.execute_input": "2023-04-25T04:02:27.147940Z",
     "iopub.status.busy": "2023-04-25T04:02:27.147431Z",
     "iopub.status.idle": "2023-04-25T04:12:55.265021Z",
     "shell.execute_reply": "2023-04-25T04:12:55.263406Z",
     "shell.execute_reply.started": "2023-04-25T04:02:27.147895Z"
    }
   },
   "outputs": [],
   "source": [
    "y_text_vector = tokenizer.texts_to_sequences(y_l)"
   ]
  },
  {
   "cell_type": "code",
   "execution_count": 6,
   "metadata": {
    "execution": {
     "iopub.execute_input": "2023-04-25T04:13:02.625790Z",
     "iopub.status.busy": "2023-04-25T04:13:02.624011Z",
     "iopub.status.idle": "2023-04-25T04:13:02.640096Z",
     "shell.execute_reply": "2023-04-25T04:13:02.637678Z",
     "shell.execute_reply.started": "2023-04-25T04:13:02.625649Z"
    }
   },
   "outputs": [
    {
     "data": {
      "text/plain": [
       "[114, 2217, 3, 6147, 211, 6, 2, 267]"
      ]
     },
     "execution_count": 6,
     "metadata": {},
     "output_type": "execute_result"
    }
   ],
   "source": [
    "y_text_vector[2]"
   ]
  },
  {
   "cell_type": "code",
   "execution_count": 7,
   "metadata": {
    "execution": {
     "iopub.execute_input": "2023-04-25T04:13:05.101028Z",
     "iopub.status.busy": "2023-04-25T04:13:05.100447Z",
     "iopub.status.idle": "2023-04-25T04:13:05.111525Z",
     "shell.execute_reply": "2023-04-25T04:13:05.109597Z",
     "shell.execute_reply.started": "2023-04-25T04:13:05.100964Z"
    }
   },
   "outputs": [
    {
     "data": {
      "text/plain": [
       "['many brands and sellers still in the market']"
      ]
     },
     "execution_count": 7,
     "metadata": {},
     "output_type": "execute_result"
    }
   ],
   "source": [
    "tokenizer.sequences_to_texts([y_text_vector[2]])"
   ]
  },
  {
   "cell_type": "markdown",
   "metadata": {},
   "source": [
    "**Padding input sentences to a unit size (50 word in each sentence)**"
   ]
  },
  {
   "cell_type": "code",
   "execution_count": 9,
   "metadata": {
    "execution": {
     "iopub.execute_input": "2023-04-25T04:14:09.950742Z",
     "iopub.status.busy": "2023-04-25T04:14:09.949449Z",
     "iopub.status.idle": "2023-04-25T04:15:42.784021Z",
     "shell.execute_reply": "2023-04-25T04:15:42.781902Z",
     "shell.execute_reply.started": "2023-04-25T04:14:09.950691Z"
    }
   },
   "outputs": [],
   "source": [
    "max_length = 50\n",
    "y_padded = pad_sequences(y_text_vector, maxlen=max_length,)"
   ]
  },
  {
   "cell_type": "code",
   "execution_count": 10,
   "metadata": {
    "execution": {
     "iopub.execute_input": "2023-04-25T04:15:51.685738Z",
     "iopub.status.busy": "2023-04-25T04:15:51.684901Z",
     "iopub.status.idle": "2023-04-25T04:15:51.695857Z",
     "shell.execute_reply": "2023-04-25T04:15:51.693920Z",
     "shell.execute_reply.started": "2023-04-25T04:15:51.685658Z"
    }
   },
   "outputs": [
    {
     "data": {
      "text/plain": [
       "(18385502, 50)"
      ]
     },
     "execution_count": 10,
     "metadata": {},
     "output_type": "execute_result"
    }
   ],
   "source": [
    "y_padded.shape"
   ]
  },
  {
   "cell_type": "code",
   "execution_count": 14,
   "metadata": {
    "execution": {
     "iopub.execute_input": "2023-04-25T04:16:50.370363Z",
     "iopub.status.busy": "2023-04-25T04:16:50.369847Z",
     "iopub.status.idle": "2023-04-25T04:16:50.381076Z",
     "shell.execute_reply": "2023-04-25T04:16:50.378649Z",
     "shell.execute_reply.started": "2023-04-25T04:16:50.370322Z"
    }
   },
   "outputs": [
    {
     "data": {
      "text/plain": [
       "'that we were beaten before the off as the first three home came from stalls eight to 12 while we were drawn in berth two which meant that our fellow was forced to race in the middle of the course while the leader kicked on on the stands ’ rail'"
      ]
     },
     "execution_count": 14,
     "metadata": {},
     "output_type": "execute_result"
    }
   ],
   "source": [
    "tokenizer.sequences_to_texts([y_padded[7]])[0].strip('<OOV>').strip(' <OOV> ')"
   ]
  },
  {
   "cell_type": "code",
   "execution_count": 15,
   "metadata": {
    "execution": {
     "iopub.execute_input": "2023-04-25T04:16:53.795945Z",
     "iopub.status.busy": "2023-04-25T04:16:53.795434Z",
     "iopub.status.idle": "2023-04-25T04:20:06.013409Z",
     "shell.execute_reply": "2023-04-25T04:20:06.010713Z",
     "shell.execute_reply.started": "2023-04-25T04:16:53.795904Z"
    }
   },
   "outputs": [],
   "source": [
    "# Save input vector in csv file \n",
    "np.savetxt(\"Labels_vector.csv\", y_padded, fmt=\"%d\", delimiter=\",\")"
   ]
  }
 ],
 "metadata": {
  "kernelspec": {
   "display_name": "Python 3 (ipykernel)",
   "language": "python",
   "name": "python3"
  },
  "language_info": {
   "codemirror_mode": {
    "name": "ipython",
    "version": 3
   },
   "file_extension": ".py",
   "mimetype": "text/x-python",
   "name": "python",
   "nbconvert_exporter": "python",
   "pygments_lexer": "ipython3",
   "version": "3.9.13"
  }
 },
 "nbformat": 4,
 "nbformat_minor": 4
}
