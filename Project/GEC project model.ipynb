{
 "cells": [
  {
   "cell_type": "code",
   "execution_count": null,
   "id": "6c97c0c3",
   "metadata": {},
   "outputs": [],
   "source": [
    "import numpy as np\n",
    "import pandas as pd\n",
    "import tensorflow as tf"
   ]
  },
  {
   "cell_type": "code",
   "execution_count": 2,
   "id": "7d283c4f",
   "metadata": {},
   "outputs": [
    {
     "name": "stdout",
     "output_type": "stream",
     "text": [
      "[[1 2 3]\n",
      " [4 5 6]]\n",
      "------------------\n",
      "[[0 1 2]\n",
      " [0 4 5]]\n"
     ]
    }
   ],
   "source": [
    "# Prepare label sequences for training function\n",
    "def shift_elements(arr, num, fill_value):\n",
    "    result = np.empty_like(arr)\n",
    "    if num > 0:\n",
    "        result[:num] = fill_value\n",
    "        result[num:] = arr[:-num]\n",
    "    elif num < 0:\n",
    "        result[num:] = fill_value\n",
    "        result[:num] = arr[-num:]\n",
    "    else:\n",
    "        result[:] = arr\n",
    "    return result\n",
    "\n",
    "# example show the process\n",
    "data = np.array([\n",
    " [1, 2, 3], [4, 5, 6]   \n",
    "]\n",
    ")\n",
    "\n",
    "sh_data = data.copy()\n",
    "\n",
    "for i in range(0, 2):\n",
    "    sh_data[i] = shift_elements(data[i], 1, 0)\n",
    "\n",
    "print(data)\n",
    "print('------------------')\n",
    "print(sh_data)"
   ]
  },
  {
   "cell_type": "code",
   "execution_count": 3,
   "id": "57ba43d2",
   "metadata": {},
   "outputs": [],
   "source": [
    "input_addr = \"E:\\\\AI\\\\Grammar project\\\\dataset\\\\input_vector.csv\"\n",
    "labels_addr = \"E:\\\\AI\\\\Grammar project\\\\dataset\\\\labels_vector.csv\""
   ]
  },
  {
   "cell_type": "code",
   "execution_count": 4,
   "id": "98f6a97d",
   "metadata": {},
   "outputs": [],
   "source": [
    "df_x = pd.read_csv(input_addr, sep=',', header=None)"
   ]
  },
  {
   "cell_type": "code",
   "execution_count": 5,
   "id": "25c5a08d",
   "metadata": {},
   "outputs": [
    {
     "data": {
      "text/plain": [
       "(3000000, 50)"
      ]
     },
     "execution_count": 5,
     "metadata": {},
     "output_type": "execute_result"
    }
   ],
   "source": [
    "df_x.values.shape"
   ]
  },
  {
   "cell_type": "code",
   "execution_count": 6,
   "id": "7d5f5afd",
   "metadata": {},
   "outputs": [],
   "source": [
    "x = df_x.values"
   ]
  },
  {
   "cell_type": "code",
   "execution_count": 7,
   "id": "ccd2c3bb",
   "metadata": {},
   "outputs": [
    {
     "data": {
      "text/plain": [
       "array([[    0,     0,     0, ...,    11,     2,   521],\n",
       "       [  171,    19,   658, ...,  1755,    20,   341],\n",
       "       [    0,     0,     0, ...,     6,     2,   267],\n",
       "       ...,\n",
       "       [    0,     0,     0, ...,     4, 10287,  1285],\n",
       "       [    0,     0,     0, ...,    76,  2402,  2067],\n",
       "       [    0,     0,     0, ...,     5,   441,   255]], dtype=int64)"
      ]
     },
     "execution_count": 7,
     "metadata": {},
     "output_type": "execute_result"
    }
   ],
   "source": [
    "x"
   ]
  },
  {
   "cell_type": "code",
   "execution_count": 8,
   "id": "30f8d32d",
   "metadata": {},
   "outputs": [],
   "source": [
    "df_y = pd.read_csv(labels_addr, sep=',', header=None)"
   ]
  },
  {
   "cell_type": "code",
   "execution_count": 9,
   "id": "fba49c2f",
   "metadata": {},
   "outputs": [
    {
     "data": {
      "text/plain": [
       "(3000000, 50)"
      ]
     },
     "execution_count": 9,
     "metadata": {},
     "output_type": "execute_result"
    }
   ],
   "source": [
    "df_y.values.shape"
   ]
  },
  {
   "cell_type": "code",
   "execution_count": 10,
   "id": "cc63cbab",
   "metadata": {},
   "outputs": [],
   "source": [
    "y = df_y.values"
   ]
  },
  {
   "cell_type": "code",
   "execution_count": 11,
   "id": "97e6b636",
   "metadata": {},
   "outputs": [
    {
     "data": {
      "text/plain": [
       "array([[    0,     0,     0, ...,    11,     2,   521],\n",
       "       [  658,     8,   509, ...,  1755,    20,   341],\n",
       "       [    0,     0,     0, ...,     6,     2,   267],\n",
       "       ...,\n",
       "       [    0,     0,     0, ...,     4, 10287,  1285],\n",
       "       [    0,     0,     0, ...,     7,  2402,  2067],\n",
       "       [    0,     0,     0, ...,     5,   441,   255]], dtype=int64)"
      ]
     },
     "execution_count": 11,
     "metadata": {},
     "output_type": "execute_result"
    }
   ],
   "source": [
    "y"
   ]
  },
  {
   "cell_type": "code",
   "execution_count": 12,
   "id": "a2eb043e",
   "metadata": {},
   "outputs": [
    {
     "name": "stdout",
     "output_type": "stream",
     "text": [
      "train ends at: 2550000\n"
     ]
    }
   ],
   "source": [
    "train_percentage = 0.85\n",
    "test_percentage = 0.15\n",
    "train_size = int(train_percentage * 3000000)\n",
    "\n",
    "print(f'train ends at: {train_size}')"
   ]
  },
  {
   "cell_type": "code",
   "execution_count": 13,
   "id": "125d08e0",
   "metadata": {},
   "outputs": [],
   "source": [
    "x_train = x[0: train_size]\n",
    "y_train = y[0: train_size]\n",
    "\n",
    "x_test = x[train_size:]\n",
    "y_test = y[train_size:]"
   ]
  },
  {
   "cell_type": "code",
   "execution_count": 14,
   "id": "d3b71405",
   "metadata": {},
   "outputs": [
    {
     "data": {
      "text/plain": [
       "((2550000, 50), (450000, 50))"
      ]
     },
     "execution_count": 14,
     "metadata": {},
     "output_type": "execute_result"
    }
   ],
   "source": [
    "x_train.shape , x_test.shape"
   ]
  },
  {
   "cell_type": "code",
   "execution_count": 15,
   "id": "3fcf7953",
   "metadata": {},
   "outputs": [],
   "source": [
    "#normalize data\n",
    "num_tokens = 5855332 #[0:5855332]\n",
    "\n",
    "x_train = x_train / num_tokens\n",
    "y_train = y_train / num_tokens\n",
    "\n",
    "x_test = x_test / num_tokens\n",
    "y_test = y_test / num_tokens"
   ]
  },
  {
   "cell_type": "code",
   "execution_count": 16,
   "id": "3802cae4",
   "metadata": {},
   "outputs": [],
   "source": [
    "# prepare decoder inputs\n",
    "dec_in = y_train.copy()\n",
    "\n",
    "for i in range(0, 2550000):\n",
    "    dec_in[i] = shift_elements(dec_in[i], 1, 0)"
   ]
  },
  {
   "cell_type": "code",
   "execution_count": 17,
   "id": "2c46e127",
   "metadata": {},
   "outputs": [
    {
     "data": {
      "text/plain": [
       "(array([[0.00000000e+00, 0.00000000e+00, 0.00000000e+00, ...,\n",
       "         1.87862960e-06, 3.41569018e-07, 8.89787291e-05],\n",
       "        [1.12376207e-04, 1.36627607e-06, 8.69293150e-05, ...,\n",
       "         2.99726813e-04, 3.41569018e-06, 5.82375175e-05],\n",
       "        [0.00000000e+00, 0.00000000e+00, 0.00000000e+00, ...,\n",
       "         1.02470705e-06, 3.41569018e-07, 4.55994639e-05],\n",
       "        ...,\n",
       "        [0.00000000e+00, 0.00000000e+00, 0.00000000e+00, ...,\n",
       "         1.19890725e-04, 3.17659187e-05, 2.55459468e-03],\n",
       "        [0.00000000e+00, 0.00000000e+00, 0.00000000e+00, ...,\n",
       "         1.02470705e-06, 2.64886773e-04, 1.21257001e-04],\n",
       "        [0.00000000e+00, 0.00000000e+00, 0.00000000e+00, ...,\n",
       "         6.31902683e-06, 8.32062127e-04, 1.89400020e-04]]),\n",
       " array([[0.00000000e+00, 0.00000000e+00, 0.00000000e+00, ...,\n",
       "         1.70272155e-03, 1.87862960e-06, 3.41569018e-07],\n",
       "        [0.00000000e+00, 1.12376207e-04, 1.36627607e-06, ...,\n",
       "         7.27542008e-05, 2.99726813e-04, 3.41569018e-06],\n",
       "        [0.00000000e+00, 0.00000000e+00, 0.00000000e+00, ...,\n",
       "         3.60355314e-05, 1.02470705e-06, 3.41569018e-07],\n",
       "        ...,\n",
       "        [0.00000000e+00, 0.00000000e+00, 0.00000000e+00, ...,\n",
       "         3.75725920e-05, 1.19890725e-04, 3.17659187e-05],\n",
       "        [0.00000000e+00, 0.00000000e+00, 0.00000000e+00, ...,\n",
       "         3.20904092e-04, 1.02470705e-06, 2.64886773e-04],\n",
       "        [0.00000000e+00, 0.00000000e+00, 0.00000000e+00, ...,\n",
       "         1.86155115e-05, 6.31902683e-06, 8.32062127e-04]]))"
      ]
     },
     "execution_count": 17,
     "metadata": {},
     "output_type": "execute_result"
    }
   ],
   "source": [
    "y_train, dec_in"
   ]
  },
  {
   "cell_type": "code",
   "execution_count": 18,
   "id": "a0f3715f",
   "metadata": {},
   "outputs": [],
   "source": [
    "x_train = np.reshape(x_train, ((2550000, 1,50)))\n",
    "y_train = np.reshape(y_train, ((2550000, 1,50)))\n",
    "dec_in = np.reshape(dec_in, ((2550000, 1,50)))"
   ]
  },
  {
   "cell_type": "markdown",
   "id": "d3f24118",
   "metadata": {},
   "source": [
    "# Making the model"
   ]
  },
  {
   "cell_type": "code",
   "execution_count": 18,
   "id": "8184f55b",
   "metadata": {},
   "outputs": [],
   "source": [
    "from numpy import array\n",
    "from numpy import argmax\n",
    "from numpy import array_equal\n",
    "from tensorflow.keras.utils import to_categorical\n",
    "from tensorflow.keras.models import Model\n",
    "from tensorflow.keras.layers import Input\n",
    "from tensorflow.keras.layers import LSTM\n",
    "from tensorflow.keras.layers import Dense"
   ]
  },
  {
   "cell_type": "code",
   "execution_count": 67,
   "id": "52c620d6",
   "metadata": {},
   "outputs": [],
   "source": [
    "# returns train, inference_encoder and inference_decoder models\n",
    "def define_models(n_input, n_output, n_units):\n",
    "    # define training encoder\n",
    "    encoder_inputs = Input(shape=(1, n_input))\n",
    "    encoder = LSTM(n_units, return_state=True)\n",
    "    encoder_outputs, state_h, state_c = encoder(encoder_inputs)\n",
    "    encoder_states = [state_h, state_c]\n",
    "    \n",
    "    # define training decoder\n",
    "    decoder_inputs = Input(shape=(1, n_output))\n",
    "    decoder_lstm = LSTM(n_units, return_sequences=True, return_state=True)\n",
    "    decoder_outputs, _, _ = decoder_lstm(decoder_inputs, initial_state=encoder_states)\n",
    "    decoder_dense = Dense(n_output, activation='sigmoid')\n",
    "    decoder_outputs = decoder_dense(decoder_outputs)\n",
    "    \n",
    "    # The training model\n",
    "    model = Model([encoder_inputs, decoder_inputs], decoder_outputs)\n",
    "    \n",
    "    # For predicting \n",
    "    # define inference encoder\n",
    "    encoder_model = Model(encoder_inputs, encoder_states)\n",
    "    \n",
    "    # define inference decoder\n",
    "    decoder_state_input_h = Input(shape=(n_units,))\n",
    "    decoder_state_input_c = Input(shape=(n_units,))\n",
    "    decoder_states_inputs = [decoder_state_input_h, decoder_state_input_c]\n",
    "    decoder_outputs, state_h, state_c = decoder_lstm(decoder_inputs, initial_state=decoder_states_inputs)\n",
    "    decoder_states = [state_h, state_c]\n",
    "    decoder_outputs = decoder_dense(decoder_outputs)\n",
    "    decoder_model = Model([decoder_inputs] + decoder_states_inputs, [decoder_outputs] + decoder_states)\n",
    "    \n",
    "    # return all models\n",
    "    return model, encoder_model, decoder_model"
   ]
  },
  {
   "cell_type": "code",
   "execution_count": 30,
   "id": "87f2e6ae",
   "metadata": {},
   "outputs": [],
   "source": [
    "train_model, enc_model, dec_model = define_models(50, 50, 512)"
   ]
  },
  {
   "cell_type": "code",
   "execution_count": 31,
   "id": "779e6dcc",
   "metadata": {},
   "outputs": [
    {
     "name": "stdout",
     "output_type": "stream",
     "text": [
      "__________________________________________________________________________________________________\n",
      "Layer (type)                    Output Shape         Param #     Connected to                     \n",
      "==================================================================================================\n",
      "input_1 (InputLayer)            (None, 1, 50)        0                                            \n",
      "__________________________________________________________________________________________________\n",
      "input_2 (InputLayer)            (None, 1, 50)        0                                            \n",
      "__________________________________________________________________________________________________\n",
      "lstm (LSTM)                     [(None, 512), (None, 1153024     input_1[0][0]                    \n",
      "__________________________________________________________________________________________________\n",
      "lstm_1 (LSTM)                   [(None, 1, 512), (No 1153024     input_2[0][0]                    \n",
      "                                                                 lstm[0][1]                       \n",
      "                                                                 lstm[0][2]                       \n",
      "__________________________________________________________________________________________________\n",
      "dense (Dense)                   (None, 1, 50)        25650       lstm_1[0][0]                     \n",
      "==================================================================================================\n",
      "Total params: 2,331,698\n",
      "Trainable params: 2,331,698\n",
      "Non-trainable params: 0\n",
      "__________________________________________________________________________________________________\n"
     ]
    }
   ],
   "source": [
    "train_model.summary()"
   ]
  },
  {
   "cell_type": "code",
   "execution_count": 32,
   "id": "a1b4d069",
   "metadata": {},
   "outputs": [
    {
     "name": "stdout",
     "output_type": "stream",
     "text": [
      "_________________________________________________________________\n",
      "Layer (type)                 Output Shape              Param #   \n",
      "=================================================================\n",
      "input_1 (InputLayer)         (None, 1, 50)             0         \n",
      "_________________________________________________________________\n",
      "lstm (LSTM)                  [(None, 512), (None, 512) 1153024   \n",
      "=================================================================\n",
      "Total params: 1,153,024\n",
      "Trainable params: 1,153,024\n",
      "Non-trainable params: 0\n",
      "_________________________________________________________________\n"
     ]
    }
   ],
   "source": [
    "enc_model.summary()"
   ]
  },
  {
   "cell_type": "code",
   "execution_count": 33,
   "id": "02c2935e",
   "metadata": {},
   "outputs": [
    {
     "name": "stdout",
     "output_type": "stream",
     "text": [
      "__________________________________________________________________________________________________\n",
      "Layer (type)                    Output Shape         Param #     Connected to                     \n",
      "==================================================================================================\n",
      "input_2 (InputLayer)            (None, 1, 50)        0                                            \n",
      "__________________________________________________________________________________________________\n",
      "input_3 (InputLayer)            (None, 512)          0                                            \n",
      "__________________________________________________________________________________________________\n",
      "input_4 (InputLayer)            (None, 512)          0                                            \n",
      "__________________________________________________________________________________________________\n",
      "lstm_1 (LSTM)                   [(None, 1, 512), (No 1153024     input_2[0][0]                    \n",
      "                                                                 input_3[0][0]                    \n",
      "                                                                 input_4[0][0]                    \n",
      "__________________________________________________________________________________________________\n",
      "dense (Dense)                   (None, 1, 50)        25650       lstm_1[1][0]                     \n",
      "==================================================================================================\n",
      "Total params: 1,178,674\n",
      "Trainable params: 1,178,674\n",
      "Non-trainable params: 0\n",
      "__________________________________________________________________________________________________\n"
     ]
    }
   ],
   "source": [
    "dec_model.summary()"
   ]
  },
  {
   "cell_type": "markdown",
   "id": "a4800e74",
   "metadata": {},
   "source": [
    "# Visualize models"
   ]
  },
  {
   "cell_type": "code",
   "execution_count": 4,
   "id": "d1430db3",
   "metadata": {},
   "outputs": [],
   "source": [
    "from tensorflow.keras.preprocessing.image import load_img\n",
    "import matplotlib.pyplot as plt"
   ]
  },
  {
   "cell_type": "code",
   "execution_count": 5,
   "id": "bc04e7f8",
   "metadata": {},
   "outputs": [],
   "source": [
    "# These images are made with th help of keras functions\n",
    "enc_img = load_img(\"E:\\\\AI\\\\Grammar project last version\\\\Visualize Models\\\\encoder model.jpg\")\n",
    "dec_img = load_img(\"E:\\\\AI\\\\Grammar project last version\\\\Visualize Models\\\\decoder model.jpg\")\n",
    "train_img = load_img(\"E:\\\\AI\\\\Grammar project last version\\\\Visualize Models\\\\training model.jpg\")"
   ]
  },
  {
   "cell_type": "code",
   "execution_count": 7,
   "id": "0c44dc6c",
   "metadata": {},
   "outputs": [
    {
     "data": {
      "image/png": "[encoded data removed]",
      "text/plain": [
       "<Figure size 432x288 with 1 Axes>"
      ]
     },
     "metadata": {
      "needs_background": "light"
     },
     "output_type": "display_data"
    }
   ],
   "source": [
    "plt.imshow(enc_img)\n",
    "plt.title(\"Encoder model\")\n",
    "plt.show() # display"
   ]
  },
  {
   "cell_type": "code",
   "execution_count": 8,
   "id": "9e8b32c5",
   "metadata": {},
   "outputs": [
    {
     "data": {
      "image/png": "[encoded data removed]",
      "text/plain": [
       "<Figure size 432x288 with 1 Axes>"
      ]
     },
     "metadata": {
      "needs_background": "light"
     },
     "output_type": "display_data"
    }
   ],
   "source": [
    "plt.imshow(dec_img)\n",
    "plt.title(\"Decoder model\")\n",
    "plt.show() # display"
   ]
  },
  {
   "cell_type": "code",
   "execution_count": 9,
   "id": "8cf925ca",
   "metadata": {},
   "outputs": [
    {
     "data": {
      "image/png": "[encoded data removed]",
      "text/plain": [
       "<Figure size 432x288 with 1 Axes>"
      ]
     },
     "metadata": {
      "needs_background": "light"
     },
     "output_type": "display_data"
    }
   ],
   "source": [
    "plt.imshow(train_img)\n",
    "plt.title(\"Training model\")\n",
    "plt.show() # display"
   ]
  },
  {
   "cell_type": "markdown",
   "id": "972df08a",
   "metadata": {},
   "source": [
    "# Training the encoder decoder model"
   ]
  },
  {
   "cell_type": "code",
   "execution_count": 36,
   "id": "61d88be7",
   "metadata": {},
   "outputs": [],
   "source": [
    "train_model.compile(optimizer='adam', loss='categorical_crossentropy' ,metrics=['accuracy',])"
   ]
  },
  {
   "cell_type": "code",
   "execution_count": 37,
   "id": "415be08d",
   "metadata": {},
   "outputs": [
    {
     "name": "stdout",
     "output_type": "stream",
     "text": [
      "Epoch 1/1\n",
      "2550000/2550000 [==============================] - 1059s 415us/step - loss: 0.0933 - acc: 0.5042\n"
     ]
    },
    {
     "data": {
      "text/plain": [
       "<tensorflow.python.keras.callbacks.History at 0x22c8230cac8>"
      ]
     },
     "execution_count": 37,
     "metadata": {},
     "output_type": "execute_result"
    }
   ],
   "source": [
    "train_model.fit([x_train, dec_in], y_train,\n",
    "          epochs=1,\n",
    "         batch_size = 100)"
   ]
  },
  {
   "cell_type": "code",
   "execution_count": 38,
   "id": "e4218dde",
   "metadata": {},
   "outputs": [
    {
     "name": "stdout",
     "output_type": "stream",
     "text": [
      "Epoch 1/2\n",
      "2550000/2550000 [==============================] - 1058s 415us/step - loss: 0.0860 - acc: 0.6522\n",
      "Epoch 2/2\n",
      "2550000/2550000 [==============================] - 1069s 419us/step - loss: 0.0846 - acc: 0.7008\n"
     ]
    },
    {
     "data": {
      "text/plain": [
       "<tensorflow.python.keras.callbacks.History at 0x22c8230ccc0>"
      ]
     },
     "execution_count": 38,
     "metadata": {},
     "output_type": "execute_result"
    }
   ],
   "source": [
    "train_model.fit([x_train, dec_in], y_train,\n",
    "          epochs=2,\n",
    "         batch_size = 100)"
   ]
  },
  {
   "cell_type": "code",
   "execution_count": 19,
   "id": "5d633749",
   "metadata": {},
   "outputs": [],
   "source": [
    "# for evaluation process\n",
    "dec_in_test = y_test.copy()\n",
    "\n",
    "for i in range(0, 450000):\n",
    "    dec_in_test[i] = shift_elements(dec_in_test[i], 1, 0)\n",
    "\n",
    "x_test = np.reshape(x_test, ((450000, 1,50)))\n",
    "y_test = np.reshape(y_test, ((450000, 1,50)))\n",
    "dec_in_test = np.reshape(dec_in_test, ((450000, 1,50)))"
   ]
  },
  {
   "cell_type": "code",
   "execution_count": 40,
   "id": "53823352",
   "metadata": {},
   "outputs": [
    {
     "name": "stdout",
     "output_type": "stream",
     "text": [
      "450000/450000 [==============================] - 73s 162us/step\n"
     ]
    }
   ],
   "source": [
    "val_loss, val_acc = train_model.evaluate([x_test, dec_in_test], y_test)"
   ]
  },
  {
   "cell_type": "code",
   "execution_count": 41,
   "id": "c1f7e025",
   "metadata": {},
   "outputs": [
    {
     "data": {
      "text/plain": [
       "(0.0883720545689265, 0.7243244444444444)"
      ]
     },
     "execution_count": 41,
     "metadata": {},
     "output_type": "execute_result"
    }
   ],
   "source": [
    "val_loss, val_acc"
   ]
  },
  {
   "cell_type": "code",
   "execution_count": 42,
   "id": "e8cbfaa9",
   "metadata": {},
   "outputs": [
    {
     "name": "stdout",
     "output_type": "stream",
     "text": [
      "Epoch 1/1\n",
      "2550000/2550000 [==============================] - 1072s 421us/step - loss: 0.0838 - acc: 0.7266\n"
     ]
    },
    {
     "data": {
      "text/plain": [
       "<tensorflow.python.keras.callbacks.History at 0x22d0f9299b0>"
      ]
     },
     "execution_count": 42,
     "metadata": {},
     "output_type": "execute_result"
    }
   ],
   "source": [
    "train_model.fit([x_train, dec_in], y_train,\n",
    "          epochs=1,\n",
    "         batch_size = 100)"
   ]
  },
  {
   "cell_type": "code",
   "execution_count": 43,
   "id": "110a58e8",
   "metadata": {},
   "outputs": [
    {
     "name": "stdout",
     "output_type": "stream",
     "text": [
      "450000/450000 [==============================] - 73s 162us/step\n"
     ]
    }
   ],
   "source": [
    "val_loss, val_acc = train_model.evaluate([x_test, dec_in_test], y_test)"
   ]
  },
  {
   "cell_type": "code",
   "execution_count": 44,
   "id": "b4103f39",
   "metadata": {},
   "outputs": [
    {
     "data": {
      "text/plain": [
       "(0.08782512504312727, 0.7140044444444444)"
      ]
     },
     "execution_count": 44,
     "metadata": {},
     "output_type": "execute_result"
    }
   ],
   "source": [
    "val_loss, val_acc"
   ]
  },
  {
   "cell_type": "code",
   "execution_count": 45,
   "id": "0c577de2",
   "metadata": {},
   "outputs": [
    {
     "name": "stdout",
     "output_type": "stream",
     "text": [
      "WARNING:tensorflow:Layer lstm_1 was passed non-serializable keyword arguments: {'initial_state': [<tf.Tensor 'lstm/while/Exit_3:0' shape=(?, 512) dtype=float32>, <tf.Tensor 'lstm/while/Exit_4:0' shape=(?, 512) dtype=float32>]}. They will not be included in the serialized model (and thus will be missing at deserialization time).\n"
     ]
    }
   ],
   "source": [
    "#saving the model\n",
    "train_model.save('E:\\\\AI\\\\Grammar project\\\\new_model\\\\grammar_model.model')"
   ]
  },
  {
   "cell_type": "code",
   "execution_count": 133,
   "id": "9d71da58",
   "metadata": {},
   "outputs": [
    {
     "name": "stdout",
     "output_type": "stream",
     "text": [
      "WARNING:tensorflow:Layer lstm_1 was passed non-serializable keyword arguments: {'initial_state': [<tf.Tensor 'input_3:0' shape=(?, 512) dtype=float32>, <tf.Tensor 'input_4:0' shape=(?, 512) dtype=float32>]}. They will not be included in the serialized model (and thus will be missing at deserialization time).\n"
     ]
    }
   ],
   "source": [
    "#saving the encoder\n",
    "enc_model.save('E:\\\\AI\\\\Grammar project\\\\new_model\\\\grammar_model_encoder.model')\n",
    "\n",
    "#saving the decoder\n",
    "dec_model.save('E:\\\\AI\\\\Grammar project\\\\new_model\\\\grammar_model_decoder.model')"
   ]
  },
  {
   "cell_type": "markdown",
   "id": "f066125b",
   "metadata": {},
   "source": [
    "# The process of prediction"
   ]
  },
  {
   "cell_type": "code",
   "execution_count": null,
   "id": "79862298",
   "metadata": {},
   "outputs": [],
   "source": [
    "enc_model.compile(optimizer='adam', loss='categorical_crossentropy' ,metrics=['accuracy',])"
   ]
  },
  {
   "cell_type": "code",
   "execution_count": 121,
   "id": "85efea39",
   "metadata": {},
   "outputs": [],
   "source": [
    "dec_model.compile(optimizer='adam', loss='categorical_crossentropy' ,metrics=['accuracy',])"
   ]
  }
 ],
 "metadata": {
  "kernelspec": {
   "display_name": "neural",
   "language": "python",
   "name": "neural"
  },
  "language_info": {
   "codemirror_mode": {
    "name": "ipython",
    "version": 3
   },
   "file_extension": ".py",
   "mimetype": "text/x-python",
   "name": "python",
   "nbconvert_exporter": "python",
   "pygments_lexer": "ipython3",
   "version": "3.6.13"
  }
 },
 "nbformat": 4,
 "nbformat_minor": 5
}
