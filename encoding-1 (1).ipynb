{
 "cells": [
  {
   "cell_type": "code",
   "execution_count": 21,
   "metadata": {
    "_cell_guid": "b1076dfc-b9ad-4769-8c92-a6c4dae69d19",
    "_uuid": "8f2839f25d086af736a60e9eeb907d3b93b6e0e5",
    "execution": {
     "iopub.execute_input": "2023-04-25T02:37:01.038459Z",
     "iopub.status.busy": "2023-04-25T02:37:01.037919Z",
     "iopub.status.idle": "2023-04-25T02:37:01.045719Z",
     "shell.execute_reply": "2023-04-25T02:37:01.044682Z",
     "shell.execute_reply.started": "2023-04-25T02:37:01.038400Z"
    }
   },
   "outputs": [],
   "source": [
    "import pandas as pd\n",
    "import numpy as np\n",
    "import os\n",
    "from tensorflow.keras.preprocessing.text import Tokenizer\n",
    "import pickle"
   ]
  },
  {
   "cell_type": "code",
   "execution_count": 3,
   "metadata": {
    "execution": {
     "iopub.execute_input": "2023-04-25T01:47:44.900813Z",
     "iopub.status.busy": "2023-04-25T01:47:44.899156Z",
     "iopub.status.idle": "2023-04-25T01:50:08.866716Z",
     "shell.execute_reply": "2023-04-25T01:50:08.865580Z",
     "shell.execute_reply.started": "2023-04-25T01:47:44.900754Z"
    }
   },
   "outputs": [],
   "source": [
    "# For reading previous data\n",
    "csv_data = pd.read_csv('/kaggle/input/nlp-project-v2/Grammer_sentences_v2.csv')\n",
    "\n",
    "x = csv_data['Input'].to_numpy()\n",
    "y = csv_data['Labels'].to_numpy()\n",
    "\n",
    "x_l = list(x)\n",
    "y_l = list(y)"
   ]
  },
  {
   "cell_type": "code",
   "execution_count": 4,
   "metadata": {
    "execution": {
     "iopub.execute_input": "2023-04-25T01:52:20.487111Z",
     "iopub.status.busy": "2023-04-25T01:52:20.486632Z",
     "iopub.status.idle": "2023-04-25T01:52:21.671557Z",
     "shell.execute_reply": "2023-04-25T01:52:21.670137Z",
     "shell.execute_reply.started": "2023-04-25T01:52:20.487071Z"
    }
   },
   "outputs": [
    {
     "data": {
      "text/html": [
       "<style type=\"text/css\">\n",
       "</style>\n",
       "<table id=\"T_aa2ca_\">\n",
       "  <thead>\n",
       "    <tr>\n",
       "      <th class=\"blank level0\" >&nbsp;</th>\n",
       "      <th class=\"col_heading level0 col0\" >Input</th>\n",
       "      <th class=\"col_heading level0 col1\" >Labels</th>\n",
       "    </tr>\n",
       "  </thead>\n",
       "  <tbody>\n",
       "    <tr>\n",
       "      <th id=\"T_aa2ca_level0_row0\" class=\"row_heading level0 row0\" >0</th>\n",
       "      <td id=\"T_aa2ca_row0_col0\" class=\"data row0 col0\" >the effect of widespread dud targets two face up attack position monsters on the field</td>\n",
       "      <td id=\"T_aa2ca_row0_col1\" class=\"data row0 col1\" >1. the effect of `` widespread dud '' targets two face up attack position monsters on the field</td>\n",
       "    </tr>\n",
       "    <tr>\n",
       "      <th id=\"T_aa2ca_level0_row1\" class=\"row_heading level0 row1\" >1</th>\n",
       "      <td id=\"T_aa2ca_row1_col0\" class=\"data row1 col0\" >tax on sales of stores for non residents are set at 21 for 2014 and 20 in 2015 payable on sales tentatively earned from the difference of the property value some time of purchase price differences according to working time and theyear to which sale couples sales costs based on the approved annual on the base approved by law</td>\n",
       "      <td id=\"T_aa2ca_row1_col1\" class=\"data row1 col1\" >capital gains tax on the sale of properties for non-residents is set at 21 for 2014 and 20 in 2015 payable on profits earned on the difference of the property value between the year of purchase purchase price plus costs and the year of sale sales price minus costs based on the approved annual percentage increase on the base value approved by law</td>\n",
       "    </tr>\n",
       "    <tr>\n",
       "      <th id=\"T_aa2ca_level0_row2\" class=\"row_heading level0 row2\" >2</th>\n",
       "      <td id=\"T_aa2ca_row2_col0\" class=\"data row2 col0\" >much many brands and sellers still in the market</td>\n",
       "      <td id=\"T_aa2ca_row2_col1\" class=\"data row2 col1\" >many brands and sellers still in the market</td>\n",
       "    </tr>\n",
       "    <tr>\n",
       "      <th id=\"T_aa2ca_level0_row3\" class=\"row_heading level0 row3\" >3</th>\n",
       "      <td id=\"T_aa2ca_row3_col0\" class=\"data row3 col0\" >this is is the latest maintenance release of samba 3.6</td>\n",
       "      <td id=\"T_aa2ca_row3_col1\" class=\"data row3 col1\" >this is is the latest maintenance release of samba 3.6</td>\n",
       "    </tr>\n",
       "    <tr>\n",
       "      <th id=\"T_aa2ca_level0_row4\" class=\"row_heading level0 row4\" >4</th>\n",
       "      <td id=\"T_aa2ca_row4_col0\" class=\"data row4 col0\" >fairy or not i 'm the godmother no just look but my outfit for taking the part as godmother</td>\n",
       "      <td id=\"T_aa2ca_row4_col1\" class=\"data row4 col1\" >fairy or not i 'm the godmother not just a look but my outfit for taking on the role as godmother</td>\n",
       "    </tr>\n",
       "    <tr>\n",
       "      <th id=\"T_aa2ca_level0_row5\" class=\"row_heading level0 row5\" >5</th>\n",
       "      <td id=\"T_aa2ca_row5_col0\" class=\"data row5 col0\" >watcch as this dodge challenger hellcat gets smoked by a tesla model s with the drag strip</td>\n",
       "      <td id=\"T_aa2ca_row5_col1\" class=\"data row5 col1\" >watch as this dodge challenger hellcat gets smoked by a tesla model s at the drag strip</td>\n",
       "    </tr>\n",
       "    <tr>\n",
       "      <th id=\"T_aa2ca_level0_row6\" class=\"row_heading level0 row6\" >6</th>\n",
       "      <td id=\"T_aa2ca_row6_col0\" class=\"data row6 col0\" >momover these devices have been proven to help consumers during another company his information</td>\n",
       "      <td id=\"T_aa2ca_row6_col1\" class=\"data row6 col1\" >moreover these devices are proven to help consumers while another company that information</td>\n",
       "    </tr>\n",
       "    <tr>\n",
       "      <th id=\"T_aa2ca_level0_row7\" class=\"row_heading level0 row7\" >7</th>\n",
       "      <td id=\"T_aa2ca_row7_col0\" class=\"data row7 col0\" >ever cloud has a silver lining and it ’ s just possible that we were beaten before the off as the first three home came from stalls eight to 12 while we were drawn in berth two which meant that our fellow was forced to race in the middle the course while the leader kicked on on the stands ’ high rail</td>\n",
       "      <td id=\"T_aa2ca_row7_col1\" class=\"data row7 col1\" >every cloud has a silver lining and it ’ s just possible that we were beaten before the off as the first three home came from stalls eight to 12 while we were drawn in berth two which meant that our fellow was forced to race in the middle of the course while the leader kicked on on the stands ’ rail</td>\n",
       "    </tr>\n",
       "    <tr>\n",
       "      <th id=\"T_aa2ca_level0_row8\" class=\"row_heading level0 row8\" >8</th>\n",
       "      <td id=\"T_aa2ca_row8_col0\" class=\"data row8 col0\" >worthless involved 's supporting for the movement</td>\n",
       "      <td id=\"T_aa2ca_row8_col1\" class=\"data row8 col1\" >get involved and help the movement</td>\n",
       "    </tr>\n",
       "    <tr>\n",
       "      <th id=\"T_aa2ca_level0_row9\" class=\"row_heading level0 row9\" >9</th>\n",
       "      <td id=\"T_aa2ca_row9_col0\" class=\"data row9 col0\" >mark mohler said in a post on instagram that he and fellow diver kimberley jeffries have confirmed the identity of wonka bee specilis deep blue on wednesday</td>\n",
       "      <td id=\"T_aa2ca_row9_col1\" class=\"data row9 col1\" >on wednesday diver mark mohler said in a post on instagram he and fellow diver kimberley jeffries confirmed the identity of the shark as deep blue</td>\n",
       "    </tr>\n",
       "  </tbody>\n",
       "</table>\n"
      ],
      "text/plain": [
       "<pandas.io.formats.style.Styler at 0x784716d944d0>"
      ]
     },
     "execution_count": 4,
     "metadata": {},
     "output_type": "execute_result"
    }
   ],
   "source": [
    "inp_lbl = {'Input': x_l[0:10], 'Labels': y_l[0:10]}\n",
    "df = pd.DataFrame(inp_lbl)\n",
    "df.style"
   ]
  },
  {
   "cell_type": "markdown",
   "metadata": {},
   "source": [
    "**This section will Encode sentences using Tokenizer**"
   ]
  },
  {
   "cell_type": "code",
   "execution_count": 6,
   "metadata": {
    "execution": {
     "iopub.execute_input": "2023-04-25T01:58:48.432166Z",
     "iopub.status.busy": "2023-04-25T01:58:48.431728Z",
     "iopub.status.idle": "2023-04-25T02:10:43.737859Z",
     "shell.execute_reply": "2023-04-25T02:10:43.736632Z",
     "shell.execute_reply.started": "2023-04-25T01:58:48.432121Z"
    }
   },
   "outputs": [],
   "source": [
    "vocab_size = 10000000\n",
    "oov_tok = '<OOV>' #  Out of Vocabulary\n",
    "\n",
    "tokenizer = Tokenizer(num_words = vocab_size, oov_token=oov_tok)\n",
    "tokenizer.fit_on_texts(x_l)\n",
    "word_index = tokenizer.word_index"
   ]
  },
  {
   "cell_type": "code",
   "execution_count": 7,
   "metadata": {
    "execution": {
     "iopub.execute_input": "2023-04-25T02:11:14.044679Z",
     "iopub.status.busy": "2023-04-25T02:11:14.043199Z",
     "iopub.status.idle": "2023-04-25T02:11:14.055734Z",
     "shell.execute_reply": "2023-04-25T02:11:14.054271Z",
     "shell.execute_reply.started": "2023-04-25T02:11:14.044614Z"
    }
   },
   "outputs": [
    {
     "name": "stdout",
     "output_type": "stream",
     "text": [
      "Number of words in the tokenizer:\t5855332\n"
     ]
    }
   ],
   "source": [
    "print(f'Number of words in the tokenizer:\\t{len(tokenizer.word_index)}')"
   ]
  },
  {
   "cell_type": "markdown",
   "metadata": {},
   "source": [
    "**Showing example for encoding and decoding words**"
   ]
  },
  {
   "cell_type": "code",
   "execution_count": 8,
   "metadata": {
    "execution": {
     "iopub.execute_input": "2023-04-25T02:11:17.022815Z",
     "iopub.status.busy": "2023-04-25T02:11:17.021952Z",
     "iopub.status.idle": "2023-04-25T02:11:17.030574Z",
     "shell.execute_reply": "2023-04-25T02:11:17.029432Z",
     "shell.execute_reply.started": "2023-04-25T02:11:17.022773Z"
    }
   },
   "outputs": [
    {
     "data": {
      "text/plain": [
       "[[2, 977, 4, 7555, 48897, 4087, 95, 688, 51, 1669, 792, 9970, 11, 2, 521]]"
      ]
     },
     "execution_count": 8,
     "metadata": {},
     "output_type": "execute_result"
    }
   ],
   "source": [
    "tokenizer.texts_to_sequences([x_l[0]])"
   ]
  },
  {
   "cell_type": "code",
   "execution_count": 9,
   "metadata": {
    "execution": {
     "iopub.execute_input": "2023-04-25T02:11:19.395123Z",
     "iopub.status.busy": "2023-04-25T02:11:19.394697Z",
     "iopub.status.idle": "2023-04-25T02:11:19.404823Z",
     "shell.execute_reply": "2023-04-25T02:11:19.403728Z",
     "shell.execute_reply.started": "2023-04-25T02:11:19.395086Z"
    }
   },
   "outputs": [
    {
     "data": {
      "text/plain": [
       "['the effect of widespread dud targets two face up attack position monsters on the field']"
      ]
     },
     "execution_count": 9,
     "metadata": {},
     "output_type": "execute_result"
    }
   ],
   "source": [
    "tokenizer.sequences_to_texts([[2, 977, 4, 7555, 48897, 4087, 95, 688, 51, 1669, 792, 9970, 11, 2, 521]])"
   ]
  },
  {
   "cell_type": "code",
   "execution_count": 22,
   "metadata": {
    "execution": {
     "iopub.execute_input": "2023-04-25T02:37:05.837230Z",
     "iopub.status.busy": "2023-04-25T02:37:05.836804Z",
     "iopub.status.idle": "2023-04-25T02:37:17.484905Z",
     "shell.execute_reply": "2023-04-25T02:37:17.483252Z",
     "shell.execute_reply.started": "2023-04-25T02:37:05.837191Z"
    }
   },
   "outputs": [],
   "source": [
    "# Saving the tokenizer\n",
    "with open('grammar_tokenizer.pickle', 'wb') as handle:\n",
    "    pickle.dump(tokenizer, handle, protocol=pickle.HIGHEST_PROTOCOL)"
   ]
  }
 ],
 "metadata": {
  "kernelspec": {
   "display_name": "Python 3 (ipykernel)",
   "language": "python",
   "name": "python3"
  },
  "language_info": {
   "codemirror_mode": {
    "name": "ipython",
    "version": 3
   },
   "file_extension": ".py",
   "mimetype": "text/x-python",
   "name": "python",
   "nbconvert_exporter": "python",
   "pygments_lexer": "ipython3",
   "version": "3.9.13"
  }
 },
 "nbformat": 4,
 "nbformat_minor": 4
}
